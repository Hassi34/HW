{
 "cells": [
  {
   "cell_type": "code",
   "execution_count": null,
   "id": "e98cb573",
   "metadata": {},
   "outputs": [],
   "source": [
    "import mysql.connector as connection"
   ]
  },
  {
   "cell_type": "code",
   "execution_count": null,
   "id": "659a26e0",
   "metadata": {},
   "outputs": [],
   "source": [
    "mydb = connection.connect(host=\"localhost\", user=\"root\", passwd=\"hassi\",use_pure=True)\n",
    "print(mydb.is_connected())\n",
    "cur = mydb.cursor()"
   ]
  },
  {
   "cell_type": "code",
   "execution_count": null,
   "id": "40226955",
   "metadata": {},
   "outputs": [],
   "source": [
    "# 1- importing dataframe\n",
    "cur.execute('SELECT * FROM inu_data.glass_data ')\n",
    "cur.fetchall()"
   ]
  },
  {
   "cell_type": "code",
   "execution_count": null,
   "id": "df8d089b",
   "metadata": {},
   "outputs": [],
   "source": [
    "# 2- Gettting Columns\n",
    "cur.execute(\"show columns from inu_data.glass_data\")\n",
    "cur.fetchall()"
   ]
  },
  {
   "cell_type": "code",
   "execution_count": null,
   "id": "d69d8e60",
   "metadata": {},
   "outputs": [],
   "source": [
    "# 3- Total Rows\n",
    "cur.execute(\"SELECT COUNT(*) FROM inu_data.glass_data\")\n",
    "cur.fetchall()"
   ]
  },
  {
   "cell_type": "code",
   "execution_count": null,
   "id": "a19bc57b",
   "metadata": {},
   "outputs": [],
   "source": [
    "# 4 - Selecting Columns\n",
    "cur.execute(\"SELECT RI, Na, Mg FROM inu_data.glass_data\")\n",
    "cur.fetchall()"
   ]
  },
  {
   "cell_type": "code",
   "execution_count": null,
   "id": "4b3a67bc",
   "metadata": {},
   "outputs": [],
   "source": [
    "# 5 - Filtering\n",
    "cur.execute(\" SELECT * FROM inu_data.glass_data WHERE RI=1.51742;\")\n",
    "cur.fetchall()"
   ]
  },
  {
   "cell_type": "code",
   "execution_count": null,
   "id": "923b86b5",
   "metadata": {},
   "outputs": [],
   "source": [
    "# 6 - Selecting Top 5 rows\n",
    "cur.execute(\" SELECT * FROM inu_data.glass_data LIMIT 5;\")\n",
    "cur.fetchall()"
   ]
  },
  {
   "cell_type": "code",
   "execution_count": null,
   "id": "24b75fce",
   "metadata": {},
   "outputs": [],
   "source": [
    "# 7 - Using greater than operator\n",
    "cur.execute(\" SELECT * FROM inu_data.glass_data where RI > 1.51740;\")\n",
    "cur.fetchall()"
   ]
  },
  {
   "cell_type": "code",
   "execution_count": null,
   "id": "c47e5597",
   "metadata": {},
   "outputs": [],
   "source": [
    "# 8 - Order By\n",
    "cur.execute(\" SELECT * FROM inu_data.glass_data ORDER BY RI ;\")\n",
    "cur.fetchall()"
   ]
  },
  {
   "cell_type": "code",
   "execution_count": null,
   "id": "153e11d8",
   "metadata": {},
   "outputs": [],
   "source": [
    "# 9 - Finding Minimum Number\n",
    "cur.execute(\" SELECT MIN(RI) FROM inu_data.glass_data\")\n",
    "cur.fetchall()"
   ]
  },
  {
   "cell_type": "code",
   "execution_count": null,
   "id": "d4f5463b",
   "metadata": {},
   "outputs": [],
   "source": [
    "# 10 - Finding Max Number\n",
    "cur.execute(\" SELECT MAX(RI) FROM inu_data.glass_data\")\n",
    "cur.fetchall()"
   ]
  },
  {
   "cell_type": "code",
   "execution_count": null,
   "id": "d19730df",
   "metadata": {},
   "outputs": [],
   "source": [
    "# 11 - Finding Average Values\n",
    "cur.execute(\" SELECT AVG(RI) FROM inu_data.glass_data\")\n",
    "cur.fetchall()"
   ]
  },
  {
   "cell_type": "code",
   "execution_count": null,
   "id": "3956f215",
   "metadata": {},
   "outputs": [],
   "source": [
    "# 12 Finding Sum Of column\n",
    "cur.execute(\" SELECT SUM(RI), SUM(Na) FROM inu_data.glass_data\")\n",
    "cur.fetchall()"
   ]
  },
  {
   "cell_type": "code",
   "execution_count": null,
   "id": "181adee9",
   "metadata": {},
   "outputs": [],
   "source": [
    "# 13 using like operator\n",
    "cur.execute(\"SELECT Mg FROM inu_data.glass_data where Mg like '%4.4%';\")\n",
    "cur.fetchall()"
   ]
  },
  {
   "cell_type": "code",
   "execution_count": null,
   "id": "06879c7e",
   "metadata": {},
   "outputs": [],
   "source": [
    "# 14 BETWEEN operator\n",
    "cur.execute(\"SELECT Mg FROM inu_data.glass_data where Mg Between 3 and 3.8;\")\n",
    "cur.fetchall()"
   ]
  },
  {
   "cell_type": "code",
   "execution_count": null,
   "id": "2c5e9389",
   "metadata": {},
   "outputs": [],
   "source": [
    "# 15 Not BETWEEN operator\n",
    "cur.execute(\"SELECT Mg FROM inu_data.glass_data where Mg not Between 3 and 3.8;\")\n",
    "cur.fetchall()"
   ]
  },
  {
   "cell_type": "code",
   "execution_count": null,
   "id": "3adb2c67",
   "metadata": {},
   "outputs": [],
   "source": [
    "# 16 using IS NULL\n",
    "cur.execute(\"SELECT * FROM inu_data.glass_data where Mg is null;\")\n",
    "cur.fetchall()"
   ]
  },
  {
   "cell_type": "code",
   "execution_count": null,
   "id": "f55b569f",
   "metadata": {},
   "outputs": [],
   "source": [
    "# 17 Drop DB\n",
    "cur.execute(\"DROP DATABASE student234;\")\n",
    "cur.fetchall()"
   ]
  },
  {
   "cell_type": "code",
   "execution_count": null,
   "id": "14b8b071",
   "metadata": {},
   "outputs": [],
   "source": [
    "# 18 - Creating New db\n",
    "cur.execute(\"CREATE DATABASE students_data;\")\n",
    "cur.fetchall()"
   ]
  },
  {
   "cell_type": "code",
   "execution_count": null,
   "id": "d4bfaa93",
   "metadata": {},
   "outputs": [],
   "source": [
    "# 19 - Creating New Table\n",
    "#cur.execute(\"USE students_data;\")\n",
    "cur.execute(\"CREATE TABLE student_dim(Reg_Number INTEGER, First_Name VARCHAR(15),Last_Name VARCHAR(15), Age INTEGER, PRIMARY KEY(Reg_Number));\")\n",
    "cur.fetchall()"
   ]
  },
  {
   "cell_type": "code",
   "execution_count": null,
   "id": "d5573b49",
   "metadata": {},
   "outputs": [],
   "source": [
    "# 20 - Inserting Values\n",
    "cur.execute(\"INSERT INTO student_dim VALUES(3848, 'Jacob', 'Lee', 21 );\")\n",
    "mydb.commit()\n"
   ]
  },
  {
   "cell_type": "code",
   "execution_count": null,
   "id": "d437a02b",
   "metadata": {},
   "outputs": [],
   "source": [
    "# 21 - Inserting Multiple Values\n",
    "cur.execute(\"INSERT INTO student_dim VALUES (4545, 'Jude', 'lay', 22)\")\n",
    "cur.execute(\"INSERT INTO student_dim VALUES (4546, 'Hassi', 'M', 26)\")\n",
    "cur.execute(\"INSERT INTO student_dim VALUES (4547, 'Idris', 'Elba',24 )\")\n",
    "cur.execute(\"INSERT INTO student_dim VALUES (4455, 'Tom', 'Hid',26 )\")"
   ]
  },
  {
   "cell_type": "code",
   "execution_count": null,
   "id": "e4c27d46",
   "metadata": {},
   "outputs": [],
   "source": [
    "mydb.commit()"
   ]
  },
  {
   "cell_type": "code",
   "execution_count": null,
   "id": "ed306e21",
   "metadata": {},
   "outputs": [],
   "source": [
    "# 22 New Table\n",
    "cur.execute(\"USE students_data\")\n",
    "cur.execute(\"CREATE TABLE marks(subject VARCHAR(25), student_id INTEGER, FOREIGN KEY(student_id) REFERENCES student_dim(Reg_Number));\")"
   ]
  },
  {
   "cell_type": "code",
   "execution_count": null,
   "id": "a9b8266f",
   "metadata": {},
   "outputs": [],
   "source": [
    "cur.execute(\"DROP TABLE marks\")"
   ]
  },
  {
   "cell_type": "code",
   "execution_count": null,
   "id": "8f8031c0",
   "metadata": {},
   "outputs": [],
   "source": [
    "# 23 Mutiple Executions\n",
    "cur.execute(\"INSERT INTO marks VALUES('Data Engineering', 4545);\")\n",
    "cur.execute(\"INSERT INTO marks VALUES('Data Science', 4546);\")\n",
    "cur.execute(\"INSERT INTO marks VALUES('Data Analysis', 4545);\")\n",
    "cur.execute(\"INSERT INTO marks VALUES('Web Development', 3848);\")\n",
    "cur.execute(\"INSERT INTO marks VALUES('Block Chain Development', 4545);\")\n",
    "cur.execute(\"INSERT INTO marks VALUES('Deep Learning', 4547);\")\n",
    "cur.execute(\"INSERT INTO marks VALUES(NULL, 4455);\")"
   ]
  },
  {
   "cell_type": "code",
   "execution_count": null,
   "id": "d6551ed4",
   "metadata": {},
   "outputs": [],
   "source": [
    "mydb.commit()"
   ]
  },
  {
   "cell_type": "code",
   "execution_count": null,
   "id": "3ecd866c",
   "metadata": {},
   "outputs": [],
   "source": [
    "# 24 -joining to two tables \n",
    "cur.execute(\"SELECT s.First_Name,s.Last_Name,s.Age, m.subject FROM student_dim AS s right join marks AS m on s.Reg_Number = m.student_id \")\n",
    "cur.fetchall()"
   ]
  },
  {
   "cell_type": "code",
   "execution_count": null,
   "id": "c1cb336a",
   "metadata": {},
   "outputs": [],
   "source": [
    "# 25 - ALTER TABLE \n",
    "cur.execute(\"ALTER TABLE student_dim ADD admission_date DATE\")"
   ]
  },
  {
   "cell_type": "code",
   "execution_count": null,
   "id": "72a61e73",
   "metadata": {},
   "outputs": [],
   "source": [
    "cur.execute(\"INSERT INTO student_dim(admission_date, Reg_Number) VALUES('2021-04-15', 4433)\")"
   ]
  },
  {
   "cell_type": "code",
   "execution_count": null,
   "id": "7784654e",
   "metadata": {},
   "outputs": [],
   "source": [
    "mydb.commit()"
   ]
  },
  {
   "cell_type": "code",
   "execution_count": null,
   "id": "bbf4c03b",
   "metadata": {},
   "outputs": [],
   "source": [
    "# 26- Getting Data Points With Null Values\n",
    "cur.execute(\"SELECT First_Name, Last_Name, Age FROM student_dim WHERE admission_date IS NULL\")\n",
    "cur.fetchall()"
   ]
  },
  {
   "cell_type": "code",
   "execution_count": null,
   "id": "7663f01b",
   "metadata": {},
   "outputs": [],
   "source": []
  },
  {
   "cell_type": "code",
   "execution_count": null,
   "id": "d94ada3b",
   "metadata": {},
   "outputs": [],
   "source": []
  }
 ],
 "metadata": {
  "hide_input": false,
  "kernelspec": {
   "display_name": "Python 3",
   "language": "python",
   "name": "python3"
  },
  "language_info": {
   "codemirror_mode": {
    "name": "ipython",
    "version": 3
   },
   "file_extension": ".py",
   "mimetype": "text/x-python",
   "name": "python",
   "nbconvert_exporter": "python",
   "pygments_lexer": "ipython3",
   "version": "3.7.6"
  }
 },
 "nbformat": 4,
 "nbformat_minor": 5
}

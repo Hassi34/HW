{
 "cells": [
  {
   "cell_type": "code",
   "execution_count": 1,
   "id": "63b22305",
   "metadata": {},
   "outputs": [
    {
     "data": {
      "text/html": [
       "<style>.container {width: 100% !important; }</style>"
      ],
      "text/plain": [
       "<IPython.core.display.HTML object>"
      ]
     },
     "metadata": {},
     "output_type": "display_data"
    }
   ],
   "source": [
    "from IPython.core.display import display, HTML\n",
    "display(HTML(\"<style>.container {width: 100% !important; }</style>\"))"
   ]
  },
  {
   "cell_type": "markdown",
   "id": "d42afbb3",
   "metadata": {},
   "source": [
    "Given a sequence of n values x1, x2, ..., xn and a window size k>0, the k-th moving average of\n",
    "the given sequence is defined as follows:<BR>\n",
    "The moving average sequence has n-k+1 elements as shown below.<br>\n",
    "The moving averages with k=4 of a ten-value sequence (n=10) is shown below<br>\n",
    "i 1 2 3 4 5 6 7 8 9 10 <br>\n",
    "===== == == == == == == == == == == <br>\n",
    "Input 10 20 30 40 50 60 70 80 90 100 <br>\n",
    "y1 25 = (10+20+30+40)/4 <br>\n",
    "y2 35 = (20+30+40+50)/4 <br>\n",
    "y3 45 = (30+40+50+60)/4 <br>\n",
    "y4 55 = (40+50+60+70)/4 <br>\n",
    "y5 65 = (50+60+70+80)/4 <br>\n",
    "y6 75 = (60+70+80+90)/4 <br>\n",
    "y7 85 = (70+80+90+100)/4 <br>\n",
    "Thus, the moving average sequence has n-k+1=10-4+1=7 values.<br>\n",
    "**Question**: Write a function to find moving average in an array over a window:\n",
    "Test it over [3, 5, 7, 2, 8, 10, 11, 65, 72, 81, 99, 100, 150] and window of 3"
   ]
  },
  {
   "cell_type": "code",
   "execution_count": 123,
   "id": "2481792c",
   "metadata": {},
   "outputs": [],
   "source": [
    "import numpy as np \n",
    "import pandas as pd "
   ]
  },
  {
   "cell_type": "code",
   "execution_count": 127,
   "id": "0a1eadce",
   "metadata": {},
   "outputs": [],
   "source": [
    "def get_mav(cal_window, data_list):\n",
    "    data = np.array(data_list)\n",
    "    k = cal_window\n",
    "    data_dict = {\n",
    "        'Calculation Window': list(),\n",
    "        'MAV' : list()\n",
    "    }\n",
    "    i=0\n",
    "    for n in range((len(data)-k+1)):\n",
    "        data_dict['MAV'].append(np.sum(data[i:i+k])/k)\n",
    "        data_dict['Calculation Window'].append(f'window_{n+1}')\n",
    "        i+=1\n",
    "    return pd.DataFrame(data_dict)"
   ]
  },
  {
   "cell_type": "code",
   "execution_count": 128,
   "id": "2c0da09c",
   "metadata": {},
   "outputs": [
    {
     "data": {
      "text/html": [
       "<div>\n",
       "<style scoped>\n",
       "    .dataframe tbody tr th:only-of-type {\n",
       "        vertical-align: middle;\n",
       "    }\n",
       "\n",
       "    .dataframe tbody tr th {\n",
       "        vertical-align: top;\n",
       "    }\n",
       "\n",
       "    .dataframe thead th {\n",
       "        text-align: right;\n",
       "    }\n",
       "</style>\n",
       "<table border=\"1\" class=\"dataframe\">\n",
       "  <thead>\n",
       "    <tr style=\"text-align: right;\">\n",
       "      <th></th>\n",
       "      <th>Calculation Window</th>\n",
       "      <th>MAV</th>\n",
       "    </tr>\n",
       "  </thead>\n",
       "  <tbody>\n",
       "    <tr>\n",
       "      <th>0</th>\n",
       "      <td>window_1</td>\n",
       "      <td>5.000000</td>\n",
       "    </tr>\n",
       "    <tr>\n",
       "      <th>1</th>\n",
       "      <td>window_2</td>\n",
       "      <td>4.666667</td>\n",
       "    </tr>\n",
       "    <tr>\n",
       "      <th>2</th>\n",
       "      <td>window_3</td>\n",
       "      <td>5.666667</td>\n",
       "    </tr>\n",
       "    <tr>\n",
       "      <th>3</th>\n",
       "      <td>window_4</td>\n",
       "      <td>6.666667</td>\n",
       "    </tr>\n",
       "    <tr>\n",
       "      <th>4</th>\n",
       "      <td>window_5</td>\n",
       "      <td>9.666667</td>\n",
       "    </tr>\n",
       "    <tr>\n",
       "      <th>5</th>\n",
       "      <td>window_6</td>\n",
       "      <td>28.666667</td>\n",
       "    </tr>\n",
       "    <tr>\n",
       "      <th>6</th>\n",
       "      <td>window_7</td>\n",
       "      <td>49.333333</td>\n",
       "    </tr>\n",
       "    <tr>\n",
       "      <th>7</th>\n",
       "      <td>window_8</td>\n",
       "      <td>72.666667</td>\n",
       "    </tr>\n",
       "    <tr>\n",
       "      <th>8</th>\n",
       "      <td>window_9</td>\n",
       "      <td>84.000000</td>\n",
       "    </tr>\n",
       "    <tr>\n",
       "      <th>9</th>\n",
       "      <td>window_10</td>\n",
       "      <td>93.333333</td>\n",
       "    </tr>\n",
       "    <tr>\n",
       "      <th>10</th>\n",
       "      <td>window_11</td>\n",
       "      <td>116.333333</td>\n",
       "    </tr>\n",
       "  </tbody>\n",
       "</table>\n",
       "</div>"
      ],
      "text/plain": [
       "   Calculation Window         MAV\n",
       "0            window_1    5.000000\n",
       "1            window_2    4.666667\n",
       "2            window_3    5.666667\n",
       "3            window_4    6.666667\n",
       "4            window_5    9.666667\n",
       "5            window_6   28.666667\n",
       "6            window_7   49.333333\n",
       "7            window_8   72.666667\n",
       "8            window_9   84.000000\n",
       "9           window_10   93.333333\n",
       "10          window_11  116.333333"
      ]
     },
     "execution_count": 128,
     "metadata": {},
     "output_type": "execute_result"
    }
   ],
   "source": [
    "moving_averages = get_mav(3, [3, 5, 7, 2, 8, 10, 11, 65, 72, 81, 99, 100, 150] )\n",
    "moving_averages "
   ]
  },
  {
   "cell_type": "code",
   "execution_count": 129,
   "id": "bea1235f",
   "metadata": {},
   "outputs": [
    {
     "data": {
      "image/png": "[encoded data removed]",
      "text/plain": [
       "<Figure size 432x288 with 1 Axes>"
      ]
     },
     "metadata": {
      "needs_background": "light"
     },
     "output_type": "display_data"
    }
   ],
   "source": [
    "moving_averages.plot();"
   ]
  },
  {
   "cell_type": "code",
   "execution_count": null,
   "id": "05002190",
   "metadata": {},
   "outputs": [],
   "source": []
  }
 ],
 "metadata": {
  "hide_input": false,
  "kernelspec": {
   "display_name": "Python 3",
   "language": "python",
   "name": "python3"
  },
  "language_info": {
   "codemirror_mode": {
    "name": "ipython",
    "version": 3
   },
   "file_extension": ".py",
   "mimetype": "text/x-python",
   "name": "python",
   "nbconvert_exporter": "python",
   "pygments_lexer": "ipython3",
   "version": "3.7.6"
  }
 },
 "nbformat": 4,
 "nbformat_minor": 5
}
